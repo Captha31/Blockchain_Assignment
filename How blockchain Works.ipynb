{
 "cells": [
  {
   "cell_type": "code",
   "execution_count": 1,
   "id": "778c8058",
   "metadata": {},
   "outputs": [
    {
     "name": "stdout",
     "output_type": "stream",
     "text": [
      "Please enter the string: Harsh\n",
      "7d3f8830e1f240a9c030c5038da549f6b87c5c1b6ab3741b765257484f112a6a\n"
     ]
    }
   ],
   "source": [
    "import hashlib\n",
    "\n",
    "string = input('Please enter the string: ')\n",
    "result = hashlib.sha256(string.encode())\n",
    "\n",
    "print(result.hexdigest())"
   ]
  },
  {
   "cell_type": "code",
   "execution_count": 19,
   "id": "b889b77e",
   "metadata": {},
   "outputs": [],
   "source": [
    "def block(block_no = 1, block_data = ''):\n",
    "    nonce = 0\n",
    "    str_final = str(block_no) + str(nonce) + block_data\n",
    "    \n",
    "    result = hashlib.sha256(str_final.encode()).hexdigest()\n",
    "    \n",
    "    while True:\n",
    "        if (result[0] == '0' and result[1] == '0' and result[2] == '0' and result[3] == '0'):\n",
    "            print(nonce)\n",
    "            print(result)\n",
    "            break\n",
    "        else:\n",
    "            nonce += 1\n",
    "            str_final = str(block_no) + str(nonce) + block_data\n",
    "            result = hashlib.sha256(str_final.encode()).hexdigest()\n",
    "        "
   ]
  },
  {
   "cell_type": "code",
   "execution_count": 20,
   "id": "c6e0a63b",
   "metadata": {},
   "outputs": [
    {
     "name": "stdout",
     "output_type": "stream",
     "text": [
      "44197\n",
      "000052dc4ac90381c3f26ea1e3f3f92ea9d1f0b62fad78e6eb246efa98ffddc0\n"
     ]
    }
   ],
   "source": [
    "block(1, 'Harsh')"
   ]
  },
  {
   "cell_type": "code",
   "execution_count": 63,
   "id": "590530a7",
   "metadata": {},
   "outputs": [],
   "source": [
    "def blockchain(block_no = 1, block_data = '', prev_hash = '0000000000000000000000000000000000000000000000000000000000000000'):\n",
    "    nonce = 0\n",
    "    str_final = str(block_no) + str(nonce) + block_data + prev_hash\n",
    "    \n",
    "    result = hashlib.sha256(str_final.encode()).hexdigest()\n",
    "    \n",
    "    while True:\n",
    "        if (result[0] == '0' and result[1] == '0' and result[2] == '0' and result[3] == '0'):\n",
    "            print('Nonce: ', nonce)\n",
    "            print('Hash: ', result)\n",
    "            return result\n",
    "            break\n",
    "        else:\n",
    "            nonce += 1\n",
    "            str_final = str(block_no) + str(nonce) + block_data + prev_hash\n",
    "            result = hashlib.sha256(str_final.encode()).hexdigest()"
   ]
  },
  {
   "cell_type": "code",
   "execution_count": 64,
   "id": "313b6a4d",
   "metadata": {},
   "outputs": [
    {
     "name": "stdout",
     "output_type": "stream",
     "text": [
      "Nonce:  76303\n",
      "Hash:  00003273ce6b341e47b06168c23932a4fe6a1fad69707283f01f9db97376e5ea\n"
     ]
    }
   ],
   "source": [
    "curr_hash1 = blockchain(1, 'Harsh', '0000000000000000000000000000000000000000000000000000000000000000')"
   ]
  },
  {
   "cell_type": "code",
   "execution_count": 65,
   "id": "64f15daf",
   "metadata": {},
   "outputs": [
    {
     "name": "stdout",
     "output_type": "stream",
     "text": [
      "Nonce:  201354\n",
      "Hash:  0000efd24c9d36f6641ef2db98f7ab3056d64870b23a5ec9747a2a2b799026ce\n"
     ]
    }
   ],
   "source": [
    "curr_hash2 = blockchain(2, 'Peet', curr_hash1)"
   ]
  },
  {
   "cell_type": "code",
   "execution_count": 66,
   "id": "9fc7b2d7",
   "metadata": {},
   "outputs": [
    {
     "name": "stdout",
     "output_type": "stream",
     "text": [
      "Nonce:  60006\n",
      "Hash:  0000ed7fbe122c37f01be567964f09f95cae3ace929fb268a16f91ebfda60fc0\n"
     ]
    }
   ],
   "source": [
    "curr_hash3 = blockchain(3, 'Verchaswa', curr_hash2)"
   ]
  },
  {
   "cell_type": "code",
   "execution_count": 67,
   "id": "4369e719",
   "metadata": {},
   "outputs": [
    {
     "name": "stdout",
     "output_type": "stream",
     "text": [
      "Nonce:  13875\n",
      "Hash:  00001d9ef3ac6c97a73484c12328dcd4dad429bca0772aa1c80a43ef09007fe6\n"
     ]
    }
   ],
   "source": [
    "curr_hash4 = blockchain(4, 'Puja', curr_hash3)"
   ]
  },
  {
   "cell_type": "code",
   "execution_count": 68,
   "id": "b1269d3d",
   "metadata": {},
   "outputs": [
    {
     "name": "stdout",
     "output_type": "stream",
     "text": [
      "Nonce:  209646\n",
      "Hash:  0000db94e42acb54f20de3bef1d4683ddd158f6b003021dfb8178d43357533ac\n"
     ]
    }
   ],
   "source": [
    "curr_hash5 = blockchain(5, 'Manali', curr_hash4)"
   ]
  },
  {
   "cell_type": "code",
   "execution_count": null,
   "id": "4c1afef4",
   "metadata": {},
   "outputs": [],
   "source": []
  },
  {
   "cell_type": "code",
   "execution_count": null,
   "id": "24b8f338",
   "metadata": {},
   "outputs": [],
   "source": []
  }
 ],
 "metadata": {
  "kernelspec": {
   "display_name": "Python 3",
   "language": "python",
   "name": "python3"
  },
  "language_info": {
   "codemirror_mode": {
    "name": "ipython",
    "version": 3
   },
   "file_extension": ".py",
   "mimetype": "text/x-python",
   "name": "python",
   "nbconvert_exporter": "python",
   "pygments_lexer": "ipython3",
   "version": "3.8.8"
  }
 },
 "nbformat": 4,
 "nbformat_minor": 5
}
